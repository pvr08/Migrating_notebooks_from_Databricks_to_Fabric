{
 "cells": [
  {
   "cell_type": "code",
   "execution_count": 0,
   "metadata": {
    "application/vnd.databricks.v1+cell": {
     "cellMetadata": {
      "byteLimit": 2048000,
      "rowLimit": 10000
     },
     "inputWidgets": {},
     "nuid": "4db85ff3-e524-4462-935c-da9357d6c6bf",
     "showTitle": false,
     "tableResultSettingsMap": {},
     "title": ""
    }
   },
   "outputs": [],
   "source": [
    "dbutils.fs.mounts()"
   ]
  },
  {
   "cell_type": "code",
   "execution_count": 0,
   "metadata": {
    "application/vnd.databricks.v1+cell": {
     "cellMetadata": {
      "byteLimit": 2048000,
      "implicitDf": true,
      "rowLimit": 10000
     },
     "inputWidgets": {},
     "nuid": "445417dc-455b-4460-b409-5ca2e7501317",
     "showTitle": false,
     "tableResultSettingsMap": {},
     "title": ""
    }
   },
   "outputs": [],
   "source": [
    "%sql\n",
    "USE CATALOG hive_metastore; \n",
    "CREATE DATABASE IF NOT EXISTS silver;\n",
    "\n",
    "USE silver;"
   ]
  },
  {
   "cell_type": "code",
   "execution_count": 0,
   "metadata": {
    "application/vnd.databricks.v1+cell": {
     "cellMetadata": {
      "byteLimit": 2048000,
      "rowLimit": 10000
     },
     "inputWidgets": {},
     "nuid": "93a1eaf5-8429-4df3-a328-3c2966cb8307",
     "showTitle": false,
     "tableResultSettingsMap": {},
     "title": ""
    }
   },
   "outputs": [],
   "source": [
    "srcpath=\"/mnt/data/silver/\"\n",
    "trgpath=\"/mnt/data/gold/accounts\"\n"
   ]
  },
  {
   "cell_type": "code",
   "execution_count": 0,
   "metadata": {
    "application/vnd.databricks.v1+cell": {
     "cellMetadata": {
      "byteLimit": 2048000,
      "implicitDf": true,
      "rowLimit": 10000
     },
     "inputWidgets": {},
     "nuid": "89f327c7-ff9b-41e9-89c0-d0da95a6d8ca",
     "showTitle": false,
     "tableResultSettingsMap": {},
     "title": ""
    }
   },
   "outputs": [],
   "source": [
    "%sql\n",
    "CREATE TABLE IF NOT EXISTS ACCOUNTS (\n",
    "    ACCOUNT_ID STRING NOT NULL,\n",
    "    CUSTOMER_ID STRING,\n",
    "    ACCOUNT_TYPE STRING,\n",
    "    BALANCE DOUBLE,\n",
    "    HASHKEY STRING,\n",
    "    CREATEDBY STRING,\n",
    "    CREATEDDATE DATE,\n",
    "    UPDATEDBY STRING,\n",
    "    UPDATEDDATE DATE\n",
    ")\n",
    "USING DELTA\n",
    "LOCATION '/mnt/data/gold/accounts';\n"
   ]
  },
  {
   "cell_type": "code",
   "execution_count": 0,
   "metadata": {
    "application/vnd.databricks.v1+cell": {
     "cellMetadata": {
      "byteLimit": 2048000,
      "rowLimit": 10000
     },
     "inputWidgets": {},
     "nuid": "5dcddec3-cc96-4725-bf21-04f5ebb4e281",
     "showTitle": false,
     "tableResultSettingsMap": {},
     "title": ""
    }
   },
   "outputs": [],
   "source": [
    "dbutils.widgets.text(\"foldername\",\"\")\n"
   ]
  },
  {
   "cell_type": "code",
   "execution_count": 0,
   "metadata": {
    "application/vnd.databricks.v1+cell": {
     "cellMetadata": {
      "byteLimit": 2048000,
      "rowLimit": 10000
     },
     "inputWidgets": {},
     "nuid": "2ed4e9bc-8a56-4d78-8c7b-0462f6f8355d",
     "showTitle": false,
     "tableResultSettingsMap": {},
     "title": ""
    }
   },
   "outputs": [],
   "source": [
    "f_path=dbutils.widgets.get(\"foldername\")\n",
    "print(f_path)"
   ]
  },
  {
   "cell_type": "code",
   "execution_count": 0,
   "metadata": {
    "application/vnd.databricks.v1+cell": {
     "cellMetadata": {
      "byteLimit": 2048000,
      "rowLimit": 10000
     },
     "inputWidgets": {},
     "nuid": "0b97fec8-c7a6-4765-b0eb-bec06ea68917",
     "showTitle": false,
     "tableResultSettingsMap": {},
     "title": ""
    }
   },
   "outputs": [],
   "source": [
    "df=spark.read.format(\"parquet\").option(\"header\",\"true\").option(\"inferSchema\",\"true\").load(srcpath+f_path)\n",
    "display(df)"
   ]
  },
  {
   "cell_type": "code",
   "execution_count": 0,
   "metadata": {
    "application/vnd.databricks.v1+cell": {
     "cellMetadata": {
      "byteLimit": 2048000,
      "rowLimit": 10000
     },
     "inputWidgets": {},
     "nuid": "ac0dc1c3-9963-4065-aa40-6f313883e113",
     "showTitle": false,
     "tableResultSettingsMap": {},
     "title": ""
    }
   },
   "outputs": [],
   "source": [
    "from pyspark.sql.functions import *\n",
    "\n",
    "df_hash=df.withColumn(\"Hash\", crc32(concat(*df.columns)))"
   ]
  },
  {
   "cell_type": "code",
   "execution_count": 0,
   "metadata": {
    "application/vnd.databricks.v1+cell": {
     "cellMetadata": {
      "byteLimit": 2048000,
      "rowLimit": 10000
     },
     "inputWidgets": {},
     "nuid": "51b8544f-b462-43c7-9574-1aa8f8b9f405",
     "showTitle": false,
     "tableResultSettingsMap": {},
     "title": ""
    }
   },
   "outputs": [],
   "source": [
    "display(df_hash)"
   ]
  },
  {
   "cell_type": "code",
   "execution_count": 0,
   "metadata": {
    "application/vnd.databricks.v1+cell": {
     "cellMetadata": {
      "byteLimit": 2048000,
      "rowLimit": 10000
     },
     "inputWidgets": {},
     "nuid": "4cd595d4-0d56-4745-88d8-cc6bd686c412",
     "showTitle": false,
     "tableResultSettingsMap": {},
     "title": ""
    }
   },
   "outputs": [],
   "source": [
    "from delta.tables import DeltaTable\n",
    "# Use forPath instead of fromPath\n",
    "dtable = DeltaTable.forPath(spark, trgpath)\n",
    "# Show the data\n",
    "dtable.toDF().show()"
   ]
  },
  {
   "cell_type": "code",
   "execution_count": 0,
   "metadata": {
    "application/vnd.databricks.v1+cell": {
     "cellMetadata": {
      "byteLimit": 2048000,
      "rowLimit": 10000
     },
     "inputWidgets": {},
     "nuid": "d7634415-95ec-4980-b30f-e27c54cfeb67",
     "showTitle": false,
     "tableResultSettingsMap": {},
     "title": ""
    }
   },
   "outputs": [],
   "source": [
    "from pyspark.sql.functions import col\n",
    "\n",
    "df_src1=df_hash.alias(\"src\").join(dtable.toDF().alias(\"tgt\"), ((col(\"src.account_id\")==col(\"tgt.ACCOUNT_ID\")) & (col(\"src.Hash\")==col(\"tgt.HASHKEY\"))),\"anti\").select(\"src.*\")\n",
    "\n",
    "display(df_src1)\n"
   ]
  },
  {
   "cell_type": "code",
   "execution_count": 0,
   "metadata": {
    "application/vnd.databricks.v1+cell": {
     "cellMetadata": {
      "byteLimit": 2048000,
      "rowLimit": 10000
     },
     "inputWidgets": {},
     "nuid": "7d9941a9-7253-4ebb-a425-e580b61580a4",
     "showTitle": false,
     "tableResultSettingsMap": {},
     "title": ""
    }
   },
   "outputs": [],
   "source": [
    "dtable.alias(\"tgt\").merge(df_src1.alias(\"src\"), ((col(\"src.account_id\")==col(\"tgt.ACCOUNT_ID\"))))\\\n",
    "    .whenMatchedUpdate(set={\n",
    "        \"tgt.ACCOUNT_ID\":\"src.account_id\",\n",
    "        \"tgt.CUSTOMER_ID\":\"src.customer_id\",\n",
    "        \"tgt.ACCOUNT_TYPE\":\"src.account_type\",\n",
    "        \"tgt.BALANCE\":\"src.balance\",\n",
    "        \"tgt.HASHKEY\":\"src.Hash\",\n",
    "        \"tgt.UPDATEDDATE\":current_timestamp(),\n",
    "        \"tgt.UPDATEDBY\":lit(\"databricks-updated\")\n",
    "    })\\\n",
    "    .whenNotMatchedInsert(values={\n",
    "        \"tgt.ACCOUNT_ID\":\"src.account_id\",\n",
    "        \"tgt.CUSTOMER_ID\":\"src.customer_id\",\n",
    "        \"tgt.ACCOUNT_TYPE\":\"src.account_type\",\n",
    "        \"tgt.BALANCE\":\"src.balance\",\n",
    "        \"tgt.HASHKEY\":\"src.Hash\",\n",
    "        \"tgt.CREATEDDATE\":current_timestamp(),\n",
    "        \"tgt.CREATEDBY\":lit(\"databricks\"),\n",
    "        \"tgt.UPDATEDDATE\":current_timestamp(),\n",
    "        \"tgt.UPDATEDBY\":lit(\"databricks\")\n",
    "    }).execute()\n",
    "        "
   ]
  },
  {
   "cell_type": "code",
   "execution_count": 0,
   "metadata": {
    "application/vnd.databricks.v1+cell": {
     "cellMetadata": {
      "byteLimit": 2048000,
      "implicitDf": true,
      "rowLimit": 10000
     },
     "inputWidgets": {},
     "nuid": "3a6ef969-7636-4e3c-932e-6fab8cc1054c",
     "showTitle": false,
     "tableResultSettingsMap": {},
     "title": ""
    }
   },
   "outputs": [],
   "source": [
    "%sql\n",
    "select * from silver.ACCOUNTS"
   ]
  },
  {
   "cell_type": "code",
   "execution_count": 0,
   "metadata": {
    "application/vnd.databricks.v1+cell": {
     "cellMetadata": {
      "byteLimit": 2048000,
      "rowLimit": 10000
     },
     "inputWidgets": {},
     "nuid": "5e35589a-8721-46de-aa61-74e4ccb2b2c2",
     "showTitle": false,
     "tableResultSettingsMap": {},
     "title": ""
    }
   },
   "outputs": [],
   "source": [
    "df_gold=spark.sql(\"select * from silver.ACCOUNTS\")\n",
    "\n",
    "df_gold.write.format(\"delta\").mode(\"overwrite\").save(\"/mnt/data/gold/accounts\")"
   ]
  },
  {
   "cell_type": "code",
   "execution_count": 0,
   "metadata": {
    "application/vnd.databricks.v1+cell": {
     "cellMetadata": {
      "byteLimit": 2048000,
      "rowLimit": 10000
     },
     "inputWidgets": {},
     "nuid": "3ab82a32-691e-49f7-a2b7-6fe782a630c1",
     "showTitle": false,
     "tableResultSettingsMap": {},
     "title": ""
    }
   },
   "outputs": [],
   "source": [
    "# List files in the gold layer directory\n",
    "dbutils.fs.ls(\"/mnt/data/gold/accounts\")\n"
   ]
  },
  {
   "cell_type": "code",
   "execution_count": 0,
   "metadata": {
    "application/vnd.databricks.v1+cell": {
     "cellMetadata": {
      "byteLimit": 2048000,
      "rowLimit": 10000
     },
     "inputWidgets": {},
     "nuid": "b5b183f7-017b-4501-b120-1ac4fb678fee",
     "showTitle": false,
     "tableResultSettingsMap": {},
     "title": ""
    }
   },
   "outputs": [],
   "source": [
    "a=5\n",
    "print(a)"
   ]
  }
 ],
 "metadata": {
  "application/vnd.databricks.v1+notebook": {
   "computePreferences": null,
   "dashboards": [],
   "environmentMetadata": {
    "base_environment": "",
    "environment_version": "2"
   },
   "inputWidgetPreferences": null,
   "language": "python",
   "notebookMetadata": {
    "mostRecentlyExecutedCommandWithImplicitDF": {
     "commandId": 8288018416177384,
     "dataframes": [
      "_sqldf"
     ]
    },
    "pythonIndentUnit": 4
   },
   "notebookName": "SCD type1",
   "widgets": {
    "foldername": {
     "currentValue": "accounts",
     "nuid": "97e36b52-1270-4570-868f-8ffee85263eb",
     "typedWidgetInfo": {
      "autoCreated": false,
      "defaultValue": "",
      "label": null,
      "name": "foldername",
      "options": {
       "widgetDisplayType": "Text",
       "validationRegex": null
      },
      "parameterDataType": "String"
     },
     "widgetInfo": {
      "widgetType": "text",
      "defaultValue": "",
      "label": null,
      "name": "foldername",
      "options": {
       "widgetType": "text",
       "autoCreated": null,
       "validationRegex": null
      }
     }
    }
   }
  },
  "language_info": {
   "name": "python"
  }
 },
 "nbformat": 4,
 "nbformat_minor": 0
}
